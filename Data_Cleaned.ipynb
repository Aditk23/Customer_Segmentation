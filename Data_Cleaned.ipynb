{
 "cells": [
  {
   "cell_type": "code",
   "execution_count": 1,
   "metadata": {},
   "outputs": [],
   "source": [
    "import numpy as np\n",
    "import pandas as pd\n"
   ]
  },
  {
   "cell_type": "code",
   "execution_count": 2,
   "metadata": {},
   "outputs": [],
   "source": [
    "#Reading CSV's\n",
    "train = pd.read_csv('train.csv')\n",
    "test = pd.read_csv('test.csv')"
   ]
  },
  {
   "cell_type": "code",
   "execution_count": 3,
   "metadata": {},
   "outputs": [
    {
     "data": {
      "text/html": [
       "<div>\n",
       "<style scoped>\n",
       "    .dataframe tbody tr th:only-of-type {\n",
       "        vertical-align: middle;\n",
       "    }\n",
       "\n",
       "    .dataframe tbody tr th {\n",
       "        vertical-align: top;\n",
       "    }\n",
       "\n",
       "    .dataframe thead th {\n",
       "        text-align: right;\n",
       "    }\n",
       "</style>\n",
       "<table border=\"1\" class=\"dataframe\">\n",
       "  <thead>\n",
       "    <tr style=\"text-align: right;\">\n",
       "      <th></th>\n",
       "      <th>ID</th>\n",
       "      <th>Gender</th>\n",
       "      <th>Ever_Married</th>\n",
       "      <th>Age</th>\n",
       "      <th>Graduated</th>\n",
       "      <th>Profession</th>\n",
       "      <th>Work_Experience</th>\n",
       "      <th>Spending_Score</th>\n",
       "      <th>Family_Size</th>\n",
       "      <th>Var_1</th>\n",
       "      <th>Segmentation</th>\n",
       "    </tr>\n",
       "  </thead>\n",
       "  <tbody>\n",
       "    <tr>\n",
       "      <th>0</th>\n",
       "      <td>462809</td>\n",
       "      <td>Male</td>\n",
       "      <td>No</td>\n",
       "      <td>22</td>\n",
       "      <td>No</td>\n",
       "      <td>Healthcare</td>\n",
       "      <td>1.0</td>\n",
       "      <td>Low</td>\n",
       "      <td>4.0</td>\n",
       "      <td>Cat_4</td>\n",
       "      <td>D</td>\n",
       "    </tr>\n",
       "    <tr>\n",
       "      <th>1</th>\n",
       "      <td>462643</td>\n",
       "      <td>Female</td>\n",
       "      <td>Yes</td>\n",
       "      <td>38</td>\n",
       "      <td>Yes</td>\n",
       "      <td>Engineer</td>\n",
       "      <td>NaN</td>\n",
       "      <td>Average</td>\n",
       "      <td>3.0</td>\n",
       "      <td>Cat_4</td>\n",
       "      <td>A</td>\n",
       "    </tr>\n",
       "    <tr>\n",
       "      <th>2</th>\n",
       "      <td>466315</td>\n",
       "      <td>Female</td>\n",
       "      <td>Yes</td>\n",
       "      <td>67</td>\n",
       "      <td>Yes</td>\n",
       "      <td>Engineer</td>\n",
       "      <td>1.0</td>\n",
       "      <td>Low</td>\n",
       "      <td>1.0</td>\n",
       "      <td>Cat_6</td>\n",
       "      <td>B</td>\n",
       "    </tr>\n",
       "    <tr>\n",
       "      <th>3</th>\n",
       "      <td>461735</td>\n",
       "      <td>Male</td>\n",
       "      <td>Yes</td>\n",
       "      <td>67</td>\n",
       "      <td>Yes</td>\n",
       "      <td>Lawyer</td>\n",
       "      <td>0.0</td>\n",
       "      <td>High</td>\n",
       "      <td>2.0</td>\n",
       "      <td>Cat_6</td>\n",
       "      <td>B</td>\n",
       "    </tr>\n",
       "    <tr>\n",
       "      <th>4</th>\n",
       "      <td>462669</td>\n",
       "      <td>Female</td>\n",
       "      <td>Yes</td>\n",
       "      <td>40</td>\n",
       "      <td>Yes</td>\n",
       "      <td>Entertainment</td>\n",
       "      <td>NaN</td>\n",
       "      <td>High</td>\n",
       "      <td>6.0</td>\n",
       "      <td>Cat_6</td>\n",
       "      <td>A</td>\n",
       "    </tr>\n",
       "  </tbody>\n",
       "</table>\n",
       "</div>"
      ],
      "text/plain": [
       "       ID  Gender Ever_Married  Age Graduated     Profession  Work_Experience  \\\n",
       "0  462809    Male           No   22        No     Healthcare              1.0   \n",
       "1  462643  Female          Yes   38       Yes       Engineer              NaN   \n",
       "2  466315  Female          Yes   67       Yes       Engineer              1.0   \n",
       "3  461735    Male          Yes   67       Yes         Lawyer              0.0   \n",
       "4  462669  Female          Yes   40       Yes  Entertainment              NaN   \n",
       "\n",
       "  Spending_Score  Family_Size  Var_1 Segmentation  \n",
       "0            Low          4.0  Cat_4            D  \n",
       "1        Average          3.0  Cat_4            A  \n",
       "2            Low          1.0  Cat_6            B  \n",
       "3           High          2.0  Cat_6            B  \n",
       "4           High          6.0  Cat_6            A  "
      ]
     },
     "execution_count": 3,
     "metadata": {},
     "output_type": "execute_result"
    }
   ],
   "source": [
    "train.head()"
   ]
  },
  {
   "cell_type": "code",
   "execution_count": 4,
   "metadata": {},
   "outputs": [
    {
     "data": {
      "text/html": [
       "<div>\n",
       "<style scoped>\n",
       "    .dataframe tbody tr th:only-of-type {\n",
       "        vertical-align: middle;\n",
       "    }\n",
       "\n",
       "    .dataframe tbody tr th {\n",
       "        vertical-align: top;\n",
       "    }\n",
       "\n",
       "    .dataframe thead th {\n",
       "        text-align: right;\n",
       "    }\n",
       "</style>\n",
       "<table border=\"1\" class=\"dataframe\">\n",
       "  <thead>\n",
       "    <tr style=\"text-align: right;\">\n",
       "      <th></th>\n",
       "      <th>ID</th>\n",
       "      <th>Gender</th>\n",
       "      <th>Ever_Married</th>\n",
       "      <th>Age</th>\n",
       "      <th>Graduated</th>\n",
       "      <th>Profession</th>\n",
       "      <th>Work_Experience</th>\n",
       "      <th>Spending_Score</th>\n",
       "      <th>Family_Size</th>\n",
       "      <th>Var_1</th>\n",
       "      <th>Segmentation</th>\n",
       "    </tr>\n",
       "  </thead>\n",
       "  <tbody>\n",
       "    <tr>\n",
       "      <th>count</th>\n",
       "      <td>8068.000000</td>\n",
       "      <td>8068</td>\n",
       "      <td>7928</td>\n",
       "      <td>8068.000000</td>\n",
       "      <td>7990</td>\n",
       "      <td>7944</td>\n",
       "      <td>7239.000000</td>\n",
       "      <td>8068</td>\n",
       "      <td>7733.000000</td>\n",
       "      <td>7992</td>\n",
       "      <td>8068</td>\n",
       "    </tr>\n",
       "    <tr>\n",
       "      <th>unique</th>\n",
       "      <td>NaN</td>\n",
       "      <td>2</td>\n",
       "      <td>2</td>\n",
       "      <td>NaN</td>\n",
       "      <td>2</td>\n",
       "      <td>9</td>\n",
       "      <td>NaN</td>\n",
       "      <td>3</td>\n",
       "      <td>NaN</td>\n",
       "      <td>7</td>\n",
       "      <td>4</td>\n",
       "    </tr>\n",
       "    <tr>\n",
       "      <th>top</th>\n",
       "      <td>NaN</td>\n",
       "      <td>Male</td>\n",
       "      <td>Yes</td>\n",
       "      <td>NaN</td>\n",
       "      <td>Yes</td>\n",
       "      <td>Artist</td>\n",
       "      <td>NaN</td>\n",
       "      <td>Low</td>\n",
       "      <td>NaN</td>\n",
       "      <td>Cat_6</td>\n",
       "      <td>D</td>\n",
       "    </tr>\n",
       "    <tr>\n",
       "      <th>freq</th>\n",
       "      <td>NaN</td>\n",
       "      <td>4417</td>\n",
       "      <td>4643</td>\n",
       "      <td>NaN</td>\n",
       "      <td>4968</td>\n",
       "      <td>2516</td>\n",
       "      <td>NaN</td>\n",
       "      <td>4878</td>\n",
       "      <td>NaN</td>\n",
       "      <td>5238</td>\n",
       "      <td>2268</td>\n",
       "    </tr>\n",
       "    <tr>\n",
       "      <th>mean</th>\n",
       "      <td>463479.214551</td>\n",
       "      <td>NaN</td>\n",
       "      <td>NaN</td>\n",
       "      <td>43.466906</td>\n",
       "      <td>NaN</td>\n",
       "      <td>NaN</td>\n",
       "      <td>2.641663</td>\n",
       "      <td>NaN</td>\n",
       "      <td>2.850123</td>\n",
       "      <td>NaN</td>\n",
       "      <td>NaN</td>\n",
       "    </tr>\n",
       "    <tr>\n",
       "      <th>std</th>\n",
       "      <td>2595.381232</td>\n",
       "      <td>NaN</td>\n",
       "      <td>NaN</td>\n",
       "      <td>16.711696</td>\n",
       "      <td>NaN</td>\n",
       "      <td>NaN</td>\n",
       "      <td>3.406763</td>\n",
       "      <td>NaN</td>\n",
       "      <td>1.531413</td>\n",
       "      <td>NaN</td>\n",
       "      <td>NaN</td>\n",
       "    </tr>\n",
       "    <tr>\n",
       "      <th>min</th>\n",
       "      <td>458982.000000</td>\n",
       "      <td>NaN</td>\n",
       "      <td>NaN</td>\n",
       "      <td>18.000000</td>\n",
       "      <td>NaN</td>\n",
       "      <td>NaN</td>\n",
       "      <td>0.000000</td>\n",
       "      <td>NaN</td>\n",
       "      <td>1.000000</td>\n",
       "      <td>NaN</td>\n",
       "      <td>NaN</td>\n",
       "    </tr>\n",
       "    <tr>\n",
       "      <th>25%</th>\n",
       "      <td>461240.750000</td>\n",
       "      <td>NaN</td>\n",
       "      <td>NaN</td>\n",
       "      <td>30.000000</td>\n",
       "      <td>NaN</td>\n",
       "      <td>NaN</td>\n",
       "      <td>0.000000</td>\n",
       "      <td>NaN</td>\n",
       "      <td>2.000000</td>\n",
       "      <td>NaN</td>\n",
       "      <td>NaN</td>\n",
       "    </tr>\n",
       "    <tr>\n",
       "      <th>50%</th>\n",
       "      <td>463472.500000</td>\n",
       "      <td>NaN</td>\n",
       "      <td>NaN</td>\n",
       "      <td>40.000000</td>\n",
       "      <td>NaN</td>\n",
       "      <td>NaN</td>\n",
       "      <td>1.000000</td>\n",
       "      <td>NaN</td>\n",
       "      <td>3.000000</td>\n",
       "      <td>NaN</td>\n",
       "      <td>NaN</td>\n",
       "    </tr>\n",
       "    <tr>\n",
       "      <th>75%</th>\n",
       "      <td>465744.250000</td>\n",
       "      <td>NaN</td>\n",
       "      <td>NaN</td>\n",
       "      <td>53.000000</td>\n",
       "      <td>NaN</td>\n",
       "      <td>NaN</td>\n",
       "      <td>4.000000</td>\n",
       "      <td>NaN</td>\n",
       "      <td>4.000000</td>\n",
       "      <td>NaN</td>\n",
       "      <td>NaN</td>\n",
       "    </tr>\n",
       "    <tr>\n",
       "      <th>max</th>\n",
       "      <td>467974.000000</td>\n",
       "      <td>NaN</td>\n",
       "      <td>NaN</td>\n",
       "      <td>89.000000</td>\n",
       "      <td>NaN</td>\n",
       "      <td>NaN</td>\n",
       "      <td>14.000000</td>\n",
       "      <td>NaN</td>\n",
       "      <td>9.000000</td>\n",
       "      <td>NaN</td>\n",
       "      <td>NaN</td>\n",
       "    </tr>\n",
       "  </tbody>\n",
       "</table>\n",
       "</div>"
      ],
      "text/plain": [
       "                   ID Gender Ever_Married          Age Graduated Profession  \\\n",
       "count     8068.000000   8068         7928  8068.000000      7990       7944   \n",
       "unique            NaN      2            2          NaN         2          9   \n",
       "top               NaN   Male          Yes          NaN       Yes     Artist   \n",
       "freq              NaN   4417         4643          NaN      4968       2516   \n",
       "mean    463479.214551    NaN          NaN    43.466906       NaN        NaN   \n",
       "std       2595.381232    NaN          NaN    16.711696       NaN        NaN   \n",
       "min     458982.000000    NaN          NaN    18.000000       NaN        NaN   \n",
       "25%     461240.750000    NaN          NaN    30.000000       NaN        NaN   \n",
       "50%     463472.500000    NaN          NaN    40.000000       NaN        NaN   \n",
       "75%     465744.250000    NaN          NaN    53.000000       NaN        NaN   \n",
       "max     467974.000000    NaN          NaN    89.000000       NaN        NaN   \n",
       "\n",
       "        Work_Experience Spending_Score  Family_Size  Var_1 Segmentation  \n",
       "count       7239.000000           8068  7733.000000   7992         8068  \n",
       "unique              NaN              3          NaN      7            4  \n",
       "top                 NaN            Low          NaN  Cat_6            D  \n",
       "freq                NaN           4878          NaN   5238         2268  \n",
       "mean           2.641663            NaN     2.850123    NaN          NaN  \n",
       "std            3.406763            NaN     1.531413    NaN          NaN  \n",
       "min            0.000000            NaN     1.000000    NaN          NaN  \n",
       "25%            0.000000            NaN     2.000000    NaN          NaN  \n",
       "50%            1.000000            NaN     3.000000    NaN          NaN  \n",
       "75%            4.000000            NaN     4.000000    NaN          NaN  \n",
       "max           14.000000            NaN     9.000000    NaN          NaN  "
      ]
     },
     "execution_count": 4,
     "metadata": {},
     "output_type": "execute_result"
    }
   ],
   "source": [
    "train.describe(include='all')"
   ]
  },
  {
   "cell_type": "code",
   "execution_count": 5,
   "metadata": {},
   "outputs": [
    {
     "data": {
      "text/html": [
       "<div>\n",
       "<style scoped>\n",
       "    .dataframe tbody tr th:only-of-type {\n",
       "        vertical-align: middle;\n",
       "    }\n",
       "\n",
       "    .dataframe tbody tr th {\n",
       "        vertical-align: top;\n",
       "    }\n",
       "\n",
       "    .dataframe thead th {\n",
       "        text-align: right;\n",
       "    }\n",
       "</style>\n",
       "<table border=\"1\" class=\"dataframe\">\n",
       "  <thead>\n",
       "    <tr style=\"text-align: right;\">\n",
       "      <th></th>\n",
       "      <th>ID</th>\n",
       "      <th>Gender</th>\n",
       "      <th>Ever_Married</th>\n",
       "      <th>Age</th>\n",
       "      <th>Graduated</th>\n",
       "      <th>Profession</th>\n",
       "      <th>Work_Experience</th>\n",
       "      <th>Spending_Score</th>\n",
       "      <th>Family_Size</th>\n",
       "      <th>Var_1</th>\n",
       "    </tr>\n",
       "  </thead>\n",
       "  <tbody>\n",
       "    <tr>\n",
       "      <th>0</th>\n",
       "      <td>458989</td>\n",
       "      <td>Female</td>\n",
       "      <td>Yes</td>\n",
       "      <td>36</td>\n",
       "      <td>Yes</td>\n",
       "      <td>Engineer</td>\n",
       "      <td>0.0</td>\n",
       "      <td>Low</td>\n",
       "      <td>1.0</td>\n",
       "      <td>Cat_6</td>\n",
       "    </tr>\n",
       "    <tr>\n",
       "      <th>1</th>\n",
       "      <td>458994</td>\n",
       "      <td>Male</td>\n",
       "      <td>Yes</td>\n",
       "      <td>37</td>\n",
       "      <td>Yes</td>\n",
       "      <td>Healthcare</td>\n",
       "      <td>8.0</td>\n",
       "      <td>Average</td>\n",
       "      <td>4.0</td>\n",
       "      <td>Cat_6</td>\n",
       "    </tr>\n",
       "    <tr>\n",
       "      <th>2</th>\n",
       "      <td>458996</td>\n",
       "      <td>Female</td>\n",
       "      <td>Yes</td>\n",
       "      <td>69</td>\n",
       "      <td>No</td>\n",
       "      <td>NaN</td>\n",
       "      <td>0.0</td>\n",
       "      <td>Low</td>\n",
       "      <td>1.0</td>\n",
       "      <td>Cat_6</td>\n",
       "    </tr>\n",
       "    <tr>\n",
       "      <th>3</th>\n",
       "      <td>459000</td>\n",
       "      <td>Male</td>\n",
       "      <td>Yes</td>\n",
       "      <td>59</td>\n",
       "      <td>No</td>\n",
       "      <td>Executive</td>\n",
       "      <td>11.0</td>\n",
       "      <td>High</td>\n",
       "      <td>2.0</td>\n",
       "      <td>Cat_6</td>\n",
       "    </tr>\n",
       "    <tr>\n",
       "      <th>4</th>\n",
       "      <td>459001</td>\n",
       "      <td>Female</td>\n",
       "      <td>No</td>\n",
       "      <td>19</td>\n",
       "      <td>No</td>\n",
       "      <td>Marketing</td>\n",
       "      <td>NaN</td>\n",
       "      <td>Low</td>\n",
       "      <td>4.0</td>\n",
       "      <td>Cat_6</td>\n",
       "    </tr>\n",
       "  </tbody>\n",
       "</table>\n",
       "</div>"
      ],
      "text/plain": [
       "       ID  Gender Ever_Married  Age Graduated  Profession  Work_Experience  \\\n",
       "0  458989  Female          Yes   36       Yes    Engineer              0.0   \n",
       "1  458994    Male          Yes   37       Yes  Healthcare              8.0   \n",
       "2  458996  Female          Yes   69        No         NaN              0.0   \n",
       "3  459000    Male          Yes   59        No   Executive             11.0   \n",
       "4  459001  Female           No   19        No   Marketing              NaN   \n",
       "\n",
       "  Spending_Score  Family_Size  Var_1  \n",
       "0            Low          1.0  Cat_6  \n",
       "1        Average          4.0  Cat_6  \n",
       "2            Low          1.0  Cat_6  \n",
       "3           High          2.0  Cat_6  \n",
       "4            Low          4.0  Cat_6  "
      ]
     },
     "execution_count": 5,
     "metadata": {},
     "output_type": "execute_result"
    }
   ],
   "source": [
    "test.head()"
   ]
  },
  {
   "cell_type": "code",
   "execution_count": 6,
   "metadata": {},
   "outputs": [
    {
     "data": {
      "text/html": [
       "<div>\n",
       "<style scoped>\n",
       "    .dataframe tbody tr th:only-of-type {\n",
       "        vertical-align: middle;\n",
       "    }\n",
       "\n",
       "    .dataframe tbody tr th {\n",
       "        vertical-align: top;\n",
       "    }\n",
       "\n",
       "    .dataframe thead th {\n",
       "        text-align: right;\n",
       "    }\n",
       "</style>\n",
       "<table border=\"1\" class=\"dataframe\">\n",
       "  <thead>\n",
       "    <tr style=\"text-align: right;\">\n",
       "      <th></th>\n",
       "      <th>ID</th>\n",
       "      <th>Gender</th>\n",
       "      <th>Ever_Married</th>\n",
       "      <th>Age</th>\n",
       "      <th>Graduated</th>\n",
       "      <th>Profession</th>\n",
       "      <th>Work_Experience</th>\n",
       "      <th>Spending_Score</th>\n",
       "      <th>Family_Size</th>\n",
       "      <th>Var_1</th>\n",
       "    </tr>\n",
       "  </thead>\n",
       "  <tbody>\n",
       "    <tr>\n",
       "      <th>count</th>\n",
       "      <td>2627.000000</td>\n",
       "      <td>2627</td>\n",
       "      <td>2577</td>\n",
       "      <td>2627.000000</td>\n",
       "      <td>2603</td>\n",
       "      <td>2589</td>\n",
       "      <td>2358.000000</td>\n",
       "      <td>2627</td>\n",
       "      <td>2514.000000</td>\n",
       "      <td>2595</td>\n",
       "    </tr>\n",
       "    <tr>\n",
       "      <th>unique</th>\n",
       "      <td>NaN</td>\n",
       "      <td>2</td>\n",
       "      <td>2</td>\n",
       "      <td>NaN</td>\n",
       "      <td>2</td>\n",
       "      <td>9</td>\n",
       "      <td>NaN</td>\n",
       "      <td>3</td>\n",
       "      <td>NaN</td>\n",
       "      <td>7</td>\n",
       "    </tr>\n",
       "    <tr>\n",
       "      <th>top</th>\n",
       "      <td>NaN</td>\n",
       "      <td>Male</td>\n",
       "      <td>Yes</td>\n",
       "      <td>NaN</td>\n",
       "      <td>Yes</td>\n",
       "      <td>Artist</td>\n",
       "      <td>NaN</td>\n",
       "      <td>Low</td>\n",
       "      <td>NaN</td>\n",
       "      <td>Cat_6</td>\n",
       "    </tr>\n",
       "    <tr>\n",
       "      <th>freq</th>\n",
       "      <td>NaN</td>\n",
       "      <td>1424</td>\n",
       "      <td>1520</td>\n",
       "      <td>NaN</td>\n",
       "      <td>1602</td>\n",
       "      <td>802</td>\n",
       "      <td>NaN</td>\n",
       "      <td>1616</td>\n",
       "      <td>NaN</td>\n",
       "      <td>1672</td>\n",
       "    </tr>\n",
       "    <tr>\n",
       "      <th>mean</th>\n",
       "      <td>463433.918919</td>\n",
       "      <td>NaN</td>\n",
       "      <td>NaN</td>\n",
       "      <td>43.649791</td>\n",
       "      <td>NaN</td>\n",
       "      <td>NaN</td>\n",
       "      <td>2.552587</td>\n",
       "      <td>NaN</td>\n",
       "      <td>2.825378</td>\n",
       "      <td>NaN</td>\n",
       "    </tr>\n",
       "    <tr>\n",
       "      <th>std</th>\n",
       "      <td>2618.245698</td>\n",
       "      <td>NaN</td>\n",
       "      <td>NaN</td>\n",
       "      <td>16.967015</td>\n",
       "      <td>NaN</td>\n",
       "      <td>NaN</td>\n",
       "      <td>3.341094</td>\n",
       "      <td>NaN</td>\n",
       "      <td>1.551906</td>\n",
       "      <td>NaN</td>\n",
       "    </tr>\n",
       "    <tr>\n",
       "      <th>min</th>\n",
       "      <td>458989.000000</td>\n",
       "      <td>NaN</td>\n",
       "      <td>NaN</td>\n",
       "      <td>18.000000</td>\n",
       "      <td>NaN</td>\n",
       "      <td>NaN</td>\n",
       "      <td>0.000000</td>\n",
       "      <td>NaN</td>\n",
       "      <td>1.000000</td>\n",
       "      <td>NaN</td>\n",
       "    </tr>\n",
       "    <tr>\n",
       "      <th>25%</th>\n",
       "      <td>461162.500000</td>\n",
       "      <td>NaN</td>\n",
       "      <td>NaN</td>\n",
       "      <td>30.000000</td>\n",
       "      <td>NaN</td>\n",
       "      <td>NaN</td>\n",
       "      <td>0.000000</td>\n",
       "      <td>NaN</td>\n",
       "      <td>2.000000</td>\n",
       "      <td>NaN</td>\n",
       "    </tr>\n",
       "    <tr>\n",
       "      <th>50%</th>\n",
       "      <td>463379.000000</td>\n",
       "      <td>NaN</td>\n",
       "      <td>NaN</td>\n",
       "      <td>41.000000</td>\n",
       "      <td>NaN</td>\n",
       "      <td>NaN</td>\n",
       "      <td>1.000000</td>\n",
       "      <td>NaN</td>\n",
       "      <td>2.000000</td>\n",
       "      <td>NaN</td>\n",
       "    </tr>\n",
       "    <tr>\n",
       "      <th>75%</th>\n",
       "      <td>465696.000000</td>\n",
       "      <td>NaN</td>\n",
       "      <td>NaN</td>\n",
       "      <td>53.000000</td>\n",
       "      <td>NaN</td>\n",
       "      <td>NaN</td>\n",
       "      <td>4.000000</td>\n",
       "      <td>NaN</td>\n",
       "      <td>4.000000</td>\n",
       "      <td>NaN</td>\n",
       "    </tr>\n",
       "    <tr>\n",
       "      <th>max</th>\n",
       "      <td>467968.000000</td>\n",
       "      <td>NaN</td>\n",
       "      <td>NaN</td>\n",
       "      <td>89.000000</td>\n",
       "      <td>NaN</td>\n",
       "      <td>NaN</td>\n",
       "      <td>14.000000</td>\n",
       "      <td>NaN</td>\n",
       "      <td>9.000000</td>\n",
       "      <td>NaN</td>\n",
       "    </tr>\n",
       "  </tbody>\n",
       "</table>\n",
       "</div>"
      ],
      "text/plain": [
       "                   ID Gender Ever_Married          Age Graduated Profession  \\\n",
       "count     2627.000000   2627         2577  2627.000000      2603       2589   \n",
       "unique            NaN      2            2          NaN         2          9   \n",
       "top               NaN   Male          Yes          NaN       Yes     Artist   \n",
       "freq              NaN   1424         1520          NaN      1602        802   \n",
       "mean    463433.918919    NaN          NaN    43.649791       NaN        NaN   \n",
       "std       2618.245698    NaN          NaN    16.967015       NaN        NaN   \n",
       "min     458989.000000    NaN          NaN    18.000000       NaN        NaN   \n",
       "25%     461162.500000    NaN          NaN    30.000000       NaN        NaN   \n",
       "50%     463379.000000    NaN          NaN    41.000000       NaN        NaN   \n",
       "75%     465696.000000    NaN          NaN    53.000000       NaN        NaN   \n",
       "max     467968.000000    NaN          NaN    89.000000       NaN        NaN   \n",
       "\n",
       "        Work_Experience Spending_Score  Family_Size  Var_1  \n",
       "count       2358.000000           2627  2514.000000   2595  \n",
       "unique              NaN              3          NaN      7  \n",
       "top                 NaN            Low          NaN  Cat_6  \n",
       "freq                NaN           1616          NaN   1672  \n",
       "mean           2.552587            NaN     2.825378    NaN  \n",
       "std            3.341094            NaN     1.551906    NaN  \n",
       "min            0.000000            NaN     1.000000    NaN  \n",
       "25%            0.000000            NaN     2.000000    NaN  \n",
       "50%            1.000000            NaN     2.000000    NaN  \n",
       "75%            4.000000            NaN     4.000000    NaN  \n",
       "max           14.000000            NaN     9.000000    NaN  "
      ]
     },
     "execution_count": 6,
     "metadata": {},
     "output_type": "execute_result"
    }
   ],
   "source": [
    "test.describe(include='all')"
   ]
  },
  {
   "cell_type": "code",
   "execution_count": 7,
   "metadata": {},
   "outputs": [
    {
     "data": {
      "text/plain": [
       "2332"
      ]
     },
     "execution_count": 7,
     "metadata": {},
     "output_type": "execute_result"
    }
   ],
   "source": [
    "# Most test ID's are same as train ID's \n",
    "\n",
    "train.ID.isin(test.ID).sum()"
   ]
  },
  {
   "cell_type": "code",
   "execution_count": 8,
   "metadata": {},
   "outputs": [
    {
     "data": {
      "text/plain": [
       "(295, 10)"
      ]
     },
     "execution_count": 8,
     "metadata": {},
     "output_type": "execute_result"
    }
   ],
   "source": [
    "# Only 295 rows are new\n",
    "diff = test.loc[test.ID.isin(train.ID)==False]\n",
    "diff.shape"
   ]
  },
  {
   "cell_type": "code",
   "execution_count": 9,
   "metadata": {},
   "outputs": [],
   "source": [
    "# Merging same test and train ID's\n",
    "\n",
    "same = pd.merge( test[['ID']] ,  train[['ID','Segmentation']] , on='ID', how ='left' )\n",
    "same_id = same[same.Segmentation.isnull()]['ID']\n",
    "\n",
    "new_test= pd.merge(same_id,  test , on='ID', how ='left' )"
   ]
  },
  {
   "cell_type": "code",
   "execution_count": 10,
   "metadata": {},
   "outputs": [],
   "source": [
    "# Combining train and test\n",
    "\n",
    "train['train_test'] = 1\n",
    "new_test['train_test'] = 0\n",
    "\n",
    "all_data = pd.concat([train,new_test])"
   ]
  },
  {
   "cell_type": "code",
   "execution_count": 11,
   "metadata": {},
   "outputs": [
    {
     "data": {
      "text/html": [
       "<div>\n",
       "<style scoped>\n",
       "    .dataframe tbody tr th:only-of-type {\n",
       "        vertical-align: middle;\n",
       "    }\n",
       "\n",
       "    .dataframe tbody tr th {\n",
       "        vertical-align: top;\n",
       "    }\n",
       "\n",
       "    .dataframe thead th {\n",
       "        text-align: right;\n",
       "    }\n",
       "</style>\n",
       "<table border=\"1\" class=\"dataframe\">\n",
       "  <thead>\n",
       "    <tr style=\"text-align: right;\">\n",
       "      <th></th>\n",
       "      <th>ID</th>\n",
       "      <th>Gender</th>\n",
       "      <th>Ever_Married</th>\n",
       "      <th>Age</th>\n",
       "      <th>Graduated</th>\n",
       "      <th>Profession</th>\n",
       "      <th>Work_Experience</th>\n",
       "      <th>Spending_Score</th>\n",
       "      <th>Family_Size</th>\n",
       "      <th>Var_1</th>\n",
       "      <th>Segmentation</th>\n",
       "      <th>train_test</th>\n",
       "    </tr>\n",
       "  </thead>\n",
       "  <tbody>\n",
       "    <tr>\n",
       "      <th>count</th>\n",
       "      <td>8363.000000</td>\n",
       "      <td>8363</td>\n",
       "      <td>8219</td>\n",
       "      <td>8363.000000</td>\n",
       "      <td>8283</td>\n",
       "      <td>8235</td>\n",
       "      <td>7506.000000</td>\n",
       "      <td>8363</td>\n",
       "      <td>8019.000000</td>\n",
       "      <td>8283</td>\n",
       "      <td>8068</td>\n",
       "      <td>8363.000000</td>\n",
       "    </tr>\n",
       "    <tr>\n",
       "      <th>unique</th>\n",
       "      <td>NaN</td>\n",
       "      <td>2</td>\n",
       "      <td>2</td>\n",
       "      <td>NaN</td>\n",
       "      <td>2</td>\n",
       "      <td>9</td>\n",
       "      <td>NaN</td>\n",
       "      <td>3</td>\n",
       "      <td>NaN</td>\n",
       "      <td>7</td>\n",
       "      <td>4</td>\n",
       "      <td>NaN</td>\n",
       "    </tr>\n",
       "    <tr>\n",
       "      <th>top</th>\n",
       "      <td>NaN</td>\n",
       "      <td>Male</td>\n",
       "      <td>Yes</td>\n",
       "      <td>NaN</td>\n",
       "      <td>Yes</td>\n",
       "      <td>Artist</td>\n",
       "      <td>NaN</td>\n",
       "      <td>Low</td>\n",
       "      <td>NaN</td>\n",
       "      <td>Cat_6</td>\n",
       "      <td>D</td>\n",
       "      <td>NaN</td>\n",
       "    </tr>\n",
       "    <tr>\n",
       "      <th>freq</th>\n",
       "      <td>NaN</td>\n",
       "      <td>4579</td>\n",
       "      <td>4807</td>\n",
       "      <td>NaN</td>\n",
       "      <td>5151</td>\n",
       "      <td>2608</td>\n",
       "      <td>NaN</td>\n",
       "      <td>5061</td>\n",
       "      <td>NaN</td>\n",
       "      <td>5418</td>\n",
       "      <td>2268</td>\n",
       "      <td>NaN</td>\n",
       "    </tr>\n",
       "    <tr>\n",
       "      <th>mean</th>\n",
       "      <td>463474.382997</td>\n",
       "      <td>NaN</td>\n",
       "      <td>NaN</td>\n",
       "      <td>43.413488</td>\n",
       "      <td>NaN</td>\n",
       "      <td>NaN</td>\n",
       "      <td>2.636824</td>\n",
       "      <td>NaN</td>\n",
       "      <td>2.850231</td>\n",
       "      <td>NaN</td>\n",
       "      <td>NaN</td>\n",
       "      <td>0.964726</td>\n",
       "    </tr>\n",
       "    <tr>\n",
       "      <th>std</th>\n",
       "      <td>2597.369734</td>\n",
       "      <td>NaN</td>\n",
       "      <td>NaN</td>\n",
       "      <td>16.729770</td>\n",
       "      <td>NaN</td>\n",
       "      <td>NaN</td>\n",
       "      <td>3.395062</td>\n",
       "      <td>NaN</td>\n",
       "      <td>1.533086</td>\n",
       "      <td>NaN</td>\n",
       "      <td>NaN</td>\n",
       "      <td>0.184484</td>\n",
       "    </tr>\n",
       "    <tr>\n",
       "      <th>min</th>\n",
       "      <td>458982.000000</td>\n",
       "      <td>NaN</td>\n",
       "      <td>NaN</td>\n",
       "      <td>18.000000</td>\n",
       "      <td>NaN</td>\n",
       "      <td>NaN</td>\n",
       "      <td>0.000000</td>\n",
       "      <td>NaN</td>\n",
       "      <td>1.000000</td>\n",
       "      <td>NaN</td>\n",
       "      <td>NaN</td>\n",
       "      <td>0.000000</td>\n",
       "    </tr>\n",
       "    <tr>\n",
       "      <th>25%</th>\n",
       "      <td>461224.500000</td>\n",
       "      <td>NaN</td>\n",
       "      <td>NaN</td>\n",
       "      <td>30.000000</td>\n",
       "      <td>NaN</td>\n",
       "      <td>NaN</td>\n",
       "      <td>0.000000</td>\n",
       "      <td>NaN</td>\n",
       "      <td>2.000000</td>\n",
       "      <td>NaN</td>\n",
       "      <td>NaN</td>\n",
       "      <td>1.000000</td>\n",
       "    </tr>\n",
       "    <tr>\n",
       "      <th>50%</th>\n",
       "      <td>463468.000000</td>\n",
       "      <td>NaN</td>\n",
       "      <td>NaN</td>\n",
       "      <td>40.000000</td>\n",
       "      <td>NaN</td>\n",
       "      <td>NaN</td>\n",
       "      <td>1.000000</td>\n",
       "      <td>NaN</td>\n",
       "      <td>3.000000</td>\n",
       "      <td>NaN</td>\n",
       "      <td>NaN</td>\n",
       "      <td>1.000000</td>\n",
       "    </tr>\n",
       "    <tr>\n",
       "      <th>75%</th>\n",
       "      <td>465736.500000</td>\n",
       "      <td>NaN</td>\n",
       "      <td>NaN</td>\n",
       "      <td>53.000000</td>\n",
       "      <td>NaN</td>\n",
       "      <td>NaN</td>\n",
       "      <td>4.000000</td>\n",
       "      <td>NaN</td>\n",
       "      <td>4.000000</td>\n",
       "      <td>NaN</td>\n",
       "      <td>NaN</td>\n",
       "      <td>1.000000</td>\n",
       "    </tr>\n",
       "    <tr>\n",
       "      <th>max</th>\n",
       "      <td>467974.000000</td>\n",
       "      <td>NaN</td>\n",
       "      <td>NaN</td>\n",
       "      <td>89.000000</td>\n",
       "      <td>NaN</td>\n",
       "      <td>NaN</td>\n",
       "      <td>14.000000</td>\n",
       "      <td>NaN</td>\n",
       "      <td>9.000000</td>\n",
       "      <td>NaN</td>\n",
       "      <td>NaN</td>\n",
       "      <td>1.000000</td>\n",
       "    </tr>\n",
       "  </tbody>\n",
       "</table>\n",
       "</div>"
      ],
      "text/plain": [
       "                   ID Gender Ever_Married          Age Graduated Profession  \\\n",
       "count     8363.000000   8363         8219  8363.000000      8283       8235   \n",
       "unique            NaN      2            2          NaN         2          9   \n",
       "top               NaN   Male          Yes          NaN       Yes     Artist   \n",
       "freq              NaN   4579         4807          NaN      5151       2608   \n",
       "mean    463474.382997    NaN          NaN    43.413488       NaN        NaN   \n",
       "std       2597.369734    NaN          NaN    16.729770       NaN        NaN   \n",
       "min     458982.000000    NaN          NaN    18.000000       NaN        NaN   \n",
       "25%     461224.500000    NaN          NaN    30.000000       NaN        NaN   \n",
       "50%     463468.000000    NaN          NaN    40.000000       NaN        NaN   \n",
       "75%     465736.500000    NaN          NaN    53.000000       NaN        NaN   \n",
       "max     467974.000000    NaN          NaN    89.000000       NaN        NaN   \n",
       "\n",
       "        Work_Experience Spending_Score  Family_Size  Var_1 Segmentation  \\\n",
       "count       7506.000000           8363  8019.000000   8283         8068   \n",
       "unique              NaN              3          NaN      7            4   \n",
       "top                 NaN            Low          NaN  Cat_6            D   \n",
       "freq                NaN           5061          NaN   5418         2268   \n",
       "mean           2.636824            NaN     2.850231    NaN          NaN   \n",
       "std            3.395062            NaN     1.533086    NaN          NaN   \n",
       "min            0.000000            NaN     1.000000    NaN          NaN   \n",
       "25%            0.000000            NaN     2.000000    NaN          NaN   \n",
       "50%            1.000000            NaN     3.000000    NaN          NaN   \n",
       "75%            4.000000            NaN     4.000000    NaN          NaN   \n",
       "max           14.000000            NaN     9.000000    NaN          NaN   \n",
       "\n",
       "         train_test  \n",
       "count   8363.000000  \n",
       "unique          NaN  \n",
       "top             NaN  \n",
       "freq            NaN  \n",
       "mean       0.964726  \n",
       "std        0.184484  \n",
       "min        0.000000  \n",
       "25%        1.000000  \n",
       "50%        1.000000  \n",
       "75%        1.000000  \n",
       "max        1.000000  "
      ]
     },
     "execution_count": 11,
     "metadata": {},
     "output_type": "execute_result"
    }
   ],
   "source": [
    "all_data.describe(include='all')"
   ]
  },
  {
   "cell_type": "code",
   "execution_count": 12,
   "metadata": {},
   "outputs": [
    {
     "data": {
      "text/plain": [
       "(8363, 12)"
      ]
     },
     "execution_count": 12,
     "metadata": {},
     "output_type": "execute_result"
    }
   ],
   "source": [
    "all_data.shape"
   ]
  },
  {
   "cell_type": "code",
   "execution_count": 13,
   "metadata": {},
   "outputs": [
    {
     "data": {
      "text/plain": [
       "ID                   0\n",
       "Gender               0\n",
       "Ever_Married       144\n",
       "Age                  0\n",
       "Graduated           80\n",
       "Profession         128\n",
       "Work_Experience    857\n",
       "Spending_Score       0\n",
       "Family_Size        344\n",
       "Var_1               80\n",
       "Segmentation       295\n",
       "train_test           0\n",
       "dtype: int64"
      ]
     },
     "execution_count": 13,
     "metadata": {},
     "output_type": "execute_result"
    }
   ],
   "source": [
    "# Many null values are there\n",
    "all_data.isnull().sum()"
   ]
  },
  {
   "cell_type": "code",
   "execution_count": 14,
   "metadata": {},
   "outputs": [
    {
     "data": {
      "text/plain": [
       "Average    2006\n",
       "Low        1584\n",
       "High       1217\n",
       "Name: Spending_Score, dtype: int64"
      ]
     },
     "execution_count": 14,
     "metadata": {},
     "output_type": "execute_result"
    }
   ],
   "source": [
    "# Customers whose spending_score is low are likely to be not married\n",
    "\n",
    "all_data[all_data.Ever_Married == 'Yes'].Spending_Score.value_counts()"
   ]
  },
  {
   "cell_type": "code",
   "execution_count": 15,
   "metadata": {},
   "outputs": [
    {
     "data": {
      "text/plain": [
       "Low    3412\n",
       "Name: Spending_Score, dtype: int64"
      ]
     },
     "execution_count": 15,
     "metadata": {},
     "output_type": "execute_result"
    }
   ],
   "source": [
    "all_data[all_data.Ever_Married == 'No'].Spending_Score.value_counts()"
   ]
  },
  {
   "cell_type": "code",
   "execution_count": 16,
   "metadata": {},
   "outputs": [],
   "source": [
    "all_data.loc[ (pd.isnull(all_data['Ever_Married'])) & (all_data['Spending_Score'] != 'Low'), 'Ever_Married'] = 'Yes'"
   ]
  },
  {
   "cell_type": "code",
   "execution_count": 17,
   "metadata": {},
   "outputs": [
    {
     "data": {
      "text/plain": [
       "ID                   0\n",
       "Gender               0\n",
       "Ever_Married        65\n",
       "Age                  0\n",
       "Graduated           80\n",
       "Profession         128\n",
       "Work_Experience    857\n",
       "Spending_Score       0\n",
       "Family_Size        344\n",
       "Var_1               80\n",
       "Segmentation       295\n",
       "train_test           0\n",
       "dtype: int64"
      ]
     },
     "execution_count": 17,
     "metadata": {},
     "output_type": "execute_result"
    }
   ],
   "source": [
    "all_data.isnull().sum()"
   ]
  },
  {
   "cell_type": "code",
   "execution_count": 18,
   "metadata": {},
   "outputs": [
    {
     "data": {
      "text/plain": [
       "Low    65\n",
       "Name: Spending_Score, dtype: int64"
      ]
     },
     "execution_count": 18,
     "metadata": {},
     "output_type": "execute_result"
    }
   ],
   "source": [
    "all_data[all_data.Ever_Married.isnull()].Spending_Score.value_counts()"
   ]
  },
  {
   "cell_type": "code",
   "execution_count": 19,
   "metadata": {},
   "outputs": [
    {
     "data": {
      "text/plain": [
       "1.0    16\n",
       "3.0    13\n",
       "4.0    12\n",
       "2.0    11\n",
       "6.0     3\n",
       "5.0     3\n",
       "7.0     1\n",
       "8.0     1\n",
       "Name: Family_Size, dtype: int64"
      ]
     },
     "execution_count": 19,
     "metadata": {},
     "output_type": "execute_result"
    }
   ],
   "source": [
    "all_data[all_data.Ever_Married.isnull()].Family_Size.value_counts()"
   ]
  },
  {
   "cell_type": "code",
   "execution_count": 20,
   "metadata": {},
   "outputs": [],
   "source": [
    "# Customers whose family size is greater than 2 are likely to be married\n",
    "\n",
    "all_data.loc[ (pd.isnull(all_data['Ever_Married'])) & (all_data['Family_Size'] > 2), 'Ever_Married'] = 'Yes'\n"
   ]
  },
  {
   "cell_type": "code",
   "execution_count": 21,
   "metadata": {},
   "outputs": [
    {
     "data": {
      "text/plain": [
       "ID                   0\n",
       "Gender               0\n",
       "Ever_Married        32\n",
       "Age                  0\n",
       "Graduated           80\n",
       "Profession         128\n",
       "Work_Experience    857\n",
       "Spending_Score       0\n",
       "Family_Size        344\n",
       "Var_1               80\n",
       "Segmentation       295\n",
       "train_test           0\n",
       "dtype: int64"
      ]
     },
     "execution_count": 21,
     "metadata": {},
     "output_type": "execute_result"
    }
   ],
   "source": [
    "all_data.isnull().sum()"
   ]
  },
  {
   "cell_type": "code",
   "execution_count": 22,
   "metadata": {},
   "outputs": [
    {
     "data": {
      "text/plain": [
       "Yes    1726\n",
       "No     1655\n",
       "Name: Graduated, dtype: int64"
      ]
     },
     "execution_count": 22,
     "metadata": {},
     "output_type": "execute_result"
    }
   ],
   "source": [
    "all_data[all_data.Ever_Married == 'No'].Graduated.value_counts()"
   ]
  },
  {
   "cell_type": "code",
   "execution_count": 23,
   "metadata": {},
   "outputs": [
    {
     "data": {
      "text/plain": [
       "Yes    3408\n",
       "No     1462\n",
       "Name: Graduated, dtype: int64"
      ]
     },
     "execution_count": 23,
     "metadata": {},
     "output_type": "execute_result"
    }
   ],
   "source": [
    "all_data[all_data.Ever_Married == 'Yes'].Graduated.value_counts()"
   ]
  },
  {
   "cell_type": "code",
   "execution_count": 24,
   "metadata": {},
   "outputs": [],
   "source": [
    "# Customers who are graduated are mostly married\n",
    "\n",
    "all_data.loc[ (pd.isnull(all_data['Ever_Married'])) & (all_data['Graduated'] == 'Yes'), 'Ever_Married'] = 'Yes'\n",
    "all_data.loc[ (pd.isnull(all_data['Ever_Married'])) & (all_data['Graduated'] == 'No'), 'Ever_Married'] = 'No'"
   ]
  },
  {
   "cell_type": "code",
   "execution_count": 25,
   "metadata": {},
   "outputs": [
    {
     "data": {
      "text/plain": [
       "ID                   0\n",
       "Gender               0\n",
       "Ever_Married         0\n",
       "Age                  0\n",
       "Graduated           80\n",
       "Profession         128\n",
       "Work_Experience    857\n",
       "Spending_Score       0\n",
       "Family_Size        344\n",
       "Var_1               80\n",
       "Segmentation       295\n",
       "train_test           0\n",
       "dtype: int64"
      ]
     },
     "execution_count": 25,
     "metadata": {},
     "output_type": "execute_result"
    }
   ],
   "source": [
    "all_data.isnull().sum()"
   ]
  },
  {
   "cell_type": "code",
   "execution_count": 26,
   "metadata": {},
   "outputs": [
    {
     "data": {
      "text/plain": [
       "Artist           2288\n",
       "Entertainment     618\n",
       "Healthcare        490\n",
       "Doctor            411\n",
       "Lawyer            398\n",
       "Engineer          323\n",
       "Executive         305\n",
       "Homemaker         143\n",
       "Marketing         120\n",
       "Name: Profession, dtype: int64"
      ]
     },
     "execution_count": 26,
     "metadata": {},
     "output_type": "execute_result"
    }
   ],
   "source": [
    "all_data[all_data['Graduated']=='Yes'].Profession.value_counts()"
   ]
  },
  {
   "cell_type": "code",
   "execution_count": 27,
   "metadata": {},
   "outputs": [
    {
     "data": {
      "text/plain": [
       "Healthcare       880\n",
       "Engineer         393\n",
       "Entertainment    357\n",
       "Artist           305\n",
       "Executive        302\n",
       "Doctor           297\n",
       "Lawyer           238\n",
       "Marketing        185\n",
       "Homemaker        109\n",
       "Name: Profession, dtype: int64"
      ]
     },
     "execution_count": 27,
     "metadata": {},
     "output_type": "execute_result"
    }
   ],
   "source": [
    "all_data[all_data['Graduated']=='No'].Profession.value_counts()"
   ]
  },
  {
   "cell_type": "code",
   "execution_count": 28,
   "metadata": {},
   "outputs": [],
   "source": [
    "# From above an Artist is most likely to be graduated than any other\n",
    "\n",
    "all_data.loc[ (pd.isnull(all_data['Graduated'])) & (all_data['Profession'] == 'Artist'), 'Graduated'] = 'Yes'"
   ]
  },
  {
   "cell_type": "code",
   "execution_count": 29,
   "metadata": {},
   "outputs": [
    {
     "data": {
      "text/plain": [
       "ID                   0\n",
       "Gender               0\n",
       "Ever_Married         0\n",
       "Age                  0\n",
       "Graduated           65\n",
       "Profession         128\n",
       "Work_Experience    857\n",
       "Spending_Score       0\n",
       "Family_Size        344\n",
       "Var_1               80\n",
       "Segmentation       295\n",
       "train_test           0\n",
       "dtype: int64"
      ]
     },
     "execution_count": 29,
     "metadata": {},
     "output_type": "execute_result"
    }
   ],
   "source": [
    "all_data.isnull().sum()"
   ]
  },
  {
   "cell_type": "code",
   "execution_count": 30,
   "metadata": {},
   "outputs": [
    {
     "data": {
      "text/plain": [
       "Yes    3435\n",
       "No     1731\n",
       "Name: Ever_Married, dtype: int64"
      ]
     },
     "execution_count": 30,
     "metadata": {},
     "output_type": "execute_result"
    }
   ],
   "source": [
    "all_data[all_data['Graduated']=='Yes'].Ever_Married.value_counts()"
   ]
  },
  {
   "cell_type": "code",
   "execution_count": 31,
   "metadata": {},
   "outputs": [
    {
     "data": {
      "text/plain": [
       "No     1670\n",
       "Yes    1462\n",
       "Name: Ever_Married, dtype: int64"
      ]
     },
     "execution_count": 31,
     "metadata": {},
     "output_type": "execute_result"
    }
   ],
   "source": [
    "all_data[all_data['Graduated']=='No'].Ever_Married.value_counts()"
   ]
  },
  {
   "cell_type": "code",
   "execution_count": 32,
   "metadata": {},
   "outputs": [],
   "source": [
    "# Ones who are married are likely to be graduated\n",
    "\n",
    "all_data.loc[ (pd.isnull(all_data['Graduated'])) & (all_data['Ever_Married'] == 'Yes'), 'Graduated'] = 'Yes'\n",
    "all_data.loc[ (pd.isnull(all_data['Graduated'])) & (all_data['Ever_Married'] == 'No'), 'Graduated'] = 'No'"
   ]
  },
  {
   "cell_type": "code",
   "execution_count": 33,
   "metadata": {},
   "outputs": [
    {
     "data": {
      "text/plain": [
       "ID                   0\n",
       "Gender               0\n",
       "Ever_Married         0\n",
       "Age                  0\n",
       "Graduated            0\n",
       "Profession         128\n",
       "Work_Experience    857\n",
       "Spending_Score       0\n",
       "Family_Size        344\n",
       "Var_1               80\n",
       "Segmentation       295\n",
       "train_test           0\n",
       "dtype: int64"
      ]
     },
     "execution_count": 33,
     "metadata": {},
     "output_type": "execute_result"
    }
   ],
   "source": [
    "all_data.isnull().sum()"
   ]
  },
  {
   "cell_type": "code",
   "execution_count": 34,
   "metadata": {},
   "outputs": [
    {
     "data": {
      "text/plain": [
       "Executive        408\n",
       "Lawyer           339\n",
       "Artist           250\n",
       "Engineer          62\n",
       "Entertainment     47\n",
       "Healthcare        46\n",
       "Marketing         35\n",
       "Doctor            33\n",
       "Homemaker         27\n",
       "Name: Profession, dtype: int64"
      ]
     },
     "execution_count": 34,
     "metadata": {},
     "output_type": "execute_result"
    }
   ],
   "source": [
    "all_data[all_data['Spending_Score']=='High'].Profession.value_counts()"
   ]
  },
  {
   "cell_type": "code",
   "execution_count": 35,
   "metadata": {},
   "outputs": [
    {
     "data": {
      "text/plain": [
       "Artist           1314\n",
       "Healthcare       1294\n",
       "Entertainment     607\n",
       "Doctor            494\n",
       "Engineer          430\n",
       "Lawyer            291\n",
       "Marketing         256\n",
       "Homemaker         165\n",
       "Executive         128\n",
       "Name: Profession, dtype: int64"
      ]
     },
     "execution_count": 35,
     "metadata": {},
     "output_type": "execute_result"
    }
   ],
   "source": [
    "all_data[all_data['Spending_Score']=='Low'].Profession.value_counts()"
   ]
  },
  {
   "cell_type": "code",
   "execution_count": 36,
   "metadata": {},
   "outputs": [
    {
     "data": {
      "text/plain": [
       "Artist           1044\n",
       "Entertainment     333\n",
       "Engineer          228\n",
       "Doctor            186\n",
       "Executive          76\n",
       "Homemaker          62\n",
       "Healthcare         42\n",
       "Marketing          19\n",
       "Lawyer             19\n",
       "Name: Profession, dtype: int64"
      ]
     },
     "execution_count": 36,
     "metadata": {},
     "output_type": "execute_result"
    }
   ],
   "source": [
    "all_data[all_data['Spending_Score']=='Average'].Profession.value_counts()"
   ]
  },
  {
   "cell_type": "code",
   "execution_count": 37,
   "metadata": {},
   "outputs": [],
   "source": [
    "# Artist spend average and executive spend high\n",
    "\n",
    "all_data.loc[ (pd.isnull(all_data['Profession'])) & (all_data['Spending_Score'] == 'Average'), 'Profession'] = 'Artist'\n",
    "all_data.loc[ (pd.isnull(all_data['Profession'])) & (all_data['Spending_Score'] == 'High'), 'Profession'] = 'Executive'\n"
   ]
  },
  {
   "cell_type": "code",
   "execution_count": 38,
   "metadata": {},
   "outputs": [
    {
     "data": {
      "text/plain": [
       "ID                   0\n",
       "Gender               0\n",
       "Ever_Married         0\n",
       "Age                  0\n",
       "Graduated            0\n",
       "Profession          82\n",
       "Work_Experience    857\n",
       "Spending_Score       0\n",
       "Family_Size        344\n",
       "Var_1               80\n",
       "Segmentation       295\n",
       "train_test           0\n",
       "dtype: int64"
      ]
     },
     "execution_count": 38,
     "metadata": {},
     "output_type": "execute_result"
    }
   ],
   "source": [
    "all_data.isnull().sum()"
   ]
  },
  {
   "cell_type": "code",
   "execution_count": 39,
   "metadata": {},
   "outputs": [
    {
     "name": "stdout",
     "output_type": "stream",
     "text": [
      "Cat_1\n",
      "Artist           36\n",
      "Healthcare       26\n",
      "Entertainment    17\n",
      "Executive        13\n",
      "Doctor           11\n",
      "Lawyer           10\n",
      "Engineer          8\n",
      "Marketing         8\n",
      "Homemaker         4\n",
      "Name: Profession, dtype: int64\n",
      "Cat_2\n",
      "Healthcare       131\n",
      "Artist           127\n",
      "Entertainment     61\n",
      "Doctor            44\n",
      "Engineer          23\n",
      "Executive         20\n",
      "Homemaker         13\n",
      "Marketing         10\n",
      "Lawyer            10\n",
      "Name: Profession, dtype: int64\n",
      "Cat_3\n",
      "Artist           214\n",
      "Healthcare       152\n",
      "Entertainment    129\n",
      "Engineer          93\n",
      "Doctor            80\n",
      "Marketing         54\n",
      "Homemaker         52\n",
      "Executive         36\n",
      "Lawyer            31\n",
      "Name: Profession, dtype: int64\n",
      "Cat_4\n",
      "Artist           227\n",
      "Healthcare       219\n",
      "Engineer         210\n",
      "Entertainment    139\n",
      "Doctor           108\n",
      "Executive         92\n",
      "Marketing         52\n",
      "Lawyer            36\n",
      "Homemaker         29\n",
      "Name: Profession, dtype: int64\n",
      "Cat_5\n",
      "Artist           24\n",
      "Healthcare       23\n",
      "Entertainment    11\n",
      "Engineer          9\n",
      "Homemaker         7\n",
      "Marketing         6\n",
      "Doctor            4\n",
      "Lawyer            3\n",
      "Executive         2\n",
      "Name: Profession, dtype: int64\n",
      "Cat_6\n",
      "Artist           1919\n",
      "Healthcare        766\n",
      "Entertainment     602\n",
      "Lawyer            552\n",
      "Executive         444\n",
      "Doctor            435\n",
      "Engineer          354\n",
      "Marketing         166\n",
      "Homemaker         144\n",
      "Name: Profession, dtype: int64\n"
     ]
    }
   ],
   "source": [
    "for i in ['Cat_1','Cat_2','Cat_3','Cat_4','Cat_5','Cat_6']:\n",
    "    print(i)\n",
    "    print(all_data[all_data['Var_1']==i].Profession.value_counts())"
   ]
  },
  {
   "cell_type": "code",
   "execution_count": 40,
   "metadata": {},
   "outputs": [],
   "source": [
    "#  Most Artist fall in Category6\n",
    "\n",
    "all_data.loc[ (pd.isnull(all_data['Profession'])) & (all_data['Var_1'] == 'Cat_6'), 'Profession'] = 'Artist'\n",
    "\n"
   ]
  },
  {
   "cell_type": "code",
   "execution_count": 41,
   "metadata": {},
   "outputs": [
    {
     "data": {
      "text/plain": [
       "ID                   0\n",
       "Gender               0\n",
       "Ever_Married         0\n",
       "Age                  0\n",
       "Graduated            0\n",
       "Profession          46\n",
       "Work_Experience    857\n",
       "Spending_Score       0\n",
       "Family_Size        344\n",
       "Var_1               80\n",
       "Segmentation       295\n",
       "train_test           0\n",
       "dtype: int64"
      ]
     },
     "execution_count": 41,
     "metadata": {},
     "output_type": "execute_result"
    }
   ],
   "source": [
    "all_data.isnull().sum()"
   ]
  },
  {
   "cell_type": "code",
   "execution_count": 42,
   "metadata": {},
   "outputs": [
    {
     "name": "stdout",
     "output_type": "stream",
     "text": [
      "1\n",
      "Artist           599\n",
      "Lawyer           188\n",
      "Entertainment    159\n",
      "Engineer         155\n",
      "Doctor           118\n",
      "Healthcare        99\n",
      "Homemaker         92\n",
      "Marketing         57\n",
      "Executive         29\n",
      "Name: Profession, dtype: int64\n",
      "2\n",
      "Artist           967\n",
      "Lawyer           342\n",
      "Entertainment    330\n",
      "Doctor           214\n",
      "Healthcare       169\n",
      "Engineer         168\n",
      "Executive        156\n",
      "Marketing         64\n",
      "Homemaker         59\n",
      "Name: Profession, dtype: int64\n",
      "3\n",
      "Artist           470\n",
      "Healthcare       327\n",
      "Entertainment    189\n",
      "Executive        144\n",
      "Doctor           143\n",
      "Engineer         133\n",
      "Marketing         59\n",
      "Lawyer            53\n",
      "Homemaker         30\n",
      "Name: Profession, dtype: int64\n",
      "4\n",
      "Healthcare       389\n",
      "Artist           368\n",
      "Executive        162\n",
      "Entertainment    157\n",
      "Doctor           122\n",
      "Engineer         115\n",
      "Marketing         58\n",
      "Homemaker         27\n",
      "Lawyer            19\n",
      "Name: Profession, dtype: int64\n",
      "5\n",
      "Healthcare       201\n",
      "Artist           126\n",
      "Executive         75\n",
      "Entertainment     72\n",
      "Engineer          66\n",
      "Doctor            53\n",
      "Marketing         30\n",
      "Lawyer             7\n",
      "Homemaker          5\n",
      "Name: Profession, dtype: int64\n",
      "6\n",
      "Healthcare       66\n",
      "Artist           42\n",
      "Engineer         27\n",
      "Doctor           23\n",
      "Entertainment    23\n",
      "Executive        17\n",
      "Marketing        14\n",
      "Homemaker         4\n",
      "Lawyer            2\n",
      "Name: Profession, dtype: int64\n",
      "7\n",
      "Healthcare       31\n",
      "Artist           19\n",
      "Engineer         17\n",
      "Executive        12\n",
      "Entertainment     7\n",
      "Doctor            5\n",
      "Homemaker         4\n",
      "Marketing         2\n",
      "Lawyer            1\n",
      "Name: Profession, dtype: int64\n",
      "8\n",
      "Healthcare       20\n",
      "Artist            8\n",
      "Engineer          8\n",
      "Entertainment     6\n",
      "Doctor            4\n",
      "Executive         3\n",
      "Marketing         2\n",
      "Name: Profession, dtype: int64\n",
      "9\n",
      "Healthcare       9\n",
      "Executive        8\n",
      "Artist           6\n",
      "Engineer         5\n",
      "Doctor           5\n",
      "Marketing        5\n",
      "Lawyer           4\n",
      "Entertainment    3\n",
      "Homemaker        1\n",
      "Name: Profession, dtype: int64\n"
     ]
    }
   ],
   "source": [
    "for i in range(1,10):\n",
    "    print(i)\n",
    "    print(all_data[all_data['Family_Size']==i].Profession.value_counts())    "
   ]
  },
  {
   "cell_type": "code",
   "execution_count": 43,
   "metadata": {},
   "outputs": [],
   "source": [
    "# Most artists have family size =1 and healthcare people have family size =5\n",
    "\n",
    "all_data.loc[ (pd.isnull(all_data['Profession'])) & (all_data['Family_Size'] == 1), 'Profession'] = 'Artist'\n",
    "all_data.loc[ (pd.isnull(all_data['Profession'])) & (all_data['Family_Size'] == 5), 'Profession'] = 'Healthcare'\n",
    "\n",
    "\n"
   ]
  },
  {
   "cell_type": "code",
   "execution_count": 45,
   "metadata": {},
   "outputs": [],
   "source": [
    "# Filling remaining Profession missing values using ffill method\n",
    "\n",
    "all_data.Profession.fillna(method='ffill',inplace=True)\n",
    "\n"
   ]
  },
  {
   "cell_type": "code",
   "execution_count": 46,
   "metadata": {},
   "outputs": [
    {
     "data": {
      "text/plain": [
       "ID                   0\n",
       "Gender               0\n",
       "Ever_Married         0\n",
       "Age                  0\n",
       "Graduated            0\n",
       "Profession           0\n",
       "Work_Experience    857\n",
       "Spending_Score       0\n",
       "Family_Size        344\n",
       "Var_1               80\n",
       "Segmentation       295\n",
       "train_test           0\n",
       "dtype: int64"
      ]
     },
     "execution_count": 46,
     "metadata": {},
     "output_type": "execute_result"
    }
   ],
   "source": [
    "all_data.isnull().sum()"
   ]
  },
  {
   "cell_type": "code",
   "execution_count": 47,
   "metadata": {},
   "outputs": [
    {
     "name": "stdout",
     "output_type": "stream",
     "text": [
      "Healthcare\n",
      "1.0\n",
      "Engineer\n",
      "1.0\n",
      "Lawyer\n",
      "1.0\n",
      "Entertainment\n",
      "1.0\n",
      "Artist\n",
      "1.0\n",
      "Executive\n",
      "1.0\n",
      "Doctor\n",
      "1.0\n",
      "Homemaker\n",
      "8.0\n",
      "Marketing\n",
      "1.0\n"
     ]
    }
   ],
   "source": [
    "for i in ['Healthcare', 'Engineer', 'Lawyer', 'Entertainment', 'Artist','Executive', 'Doctor', 'Homemaker', 'Marketing']:\n",
    "    print(i)\n",
    "    print(all_data[all_data.Profession == i]['Work_Experience'].median())"
   ]
  },
  {
   "cell_type": "code",
   "execution_count": 48,
   "metadata": {},
   "outputs": [],
   "source": [
    "# Filling work experience as per Profession\n",
    "\n",
    "all_data.loc[ (pd.isnull(all_data['Work_Experience'])) & (all_data['Profession'] == 'Healthcare'), 'Work_Experience'] = 1\n",
    "all_data.loc[ (pd.isnull(all_data['Work_Experience'])) & (all_data['Profession'] == 'Engineer'), 'Work_Experience'] = 1\n",
    "all_data.loc[ (pd.isnull(all_data['Work_Experience'])) & (all_data['Profession'] == 'Lawyer'), 'Work_Experience'] = 1\n",
    "all_data.loc[ (pd.isnull(all_data['Work_Experience'])) & (all_data['Profession'] == 'Entertainment'), 'Work_Experience'] = 1\n",
    "all_data.loc[ (pd.isnull(all_data['Work_Experience'])) & (all_data['Profession'] == 'Artist'), 'Work_Experience'] = 1\n",
    "all_data.loc[ (pd.isnull(all_data['Work_Experience'])) & (all_data['Profession'] == 'Executive'), 'Work_Experience'] = 1\n",
    "all_data.loc[ (pd.isnull(all_data['Work_Experience'])) & (all_data['Profession'] == 'Doctor'), 'Work_Experience'] = 1\n",
    "all_data.loc[ (pd.isnull(all_data['Work_Experience'])) & (all_data['Profession'] == 'Homemaker'), 'Work_Experience'] = 8\n",
    "all_data.loc[ (pd.isnull(all_data['Work_Experience'])) & (all_data['Profession'] == 'Marketing'), 'Work_Experience'] = 1"
   ]
  },
  {
   "cell_type": "code",
   "execution_count": 49,
   "metadata": {},
   "outputs": [
    {
     "data": {
      "text/plain": [
       "ID                   0\n",
       "Gender               0\n",
       "Ever_Married         0\n",
       "Age                  0\n",
       "Graduated            0\n",
       "Profession           0\n",
       "Work_Experience      0\n",
       "Spending_Score       0\n",
       "Family_Size        344\n",
       "Var_1               80\n",
       "Segmentation       295\n",
       "train_test           0\n",
       "dtype: int64"
      ]
     },
     "execution_count": 49,
     "metadata": {},
     "output_type": "execute_result"
    }
   ],
   "source": [
    "all_data.isnull().sum()"
   ]
  },
  {
   "cell_type": "code",
   "execution_count": 52,
   "metadata": {},
   "outputs": [],
   "source": [
    "# If not married family size 1 in general\n",
    "\n",
    "all_data.loc[ (pd.isnull(all_data['Family_Size'])) & (all_data['Ever_Married'] == 'No'), 'Family_Size'] = 1\n",
    "\n"
   ]
  },
  {
   "cell_type": "code",
   "execution_count": 53,
   "metadata": {},
   "outputs": [
    {
     "data": {
      "text/plain": [
       "ID                   0\n",
       "Gender               0\n",
       "Ever_Married         0\n",
       "Age                  0\n",
       "Graduated            0\n",
       "Profession           0\n",
       "Work_Experience      0\n",
       "Spending_Score       0\n",
       "Family_Size        152\n",
       "Var_1               80\n",
       "Segmentation       295\n",
       "train_test           0\n",
       "dtype: int64"
      ]
     },
     "execution_count": 53,
     "metadata": {},
     "output_type": "execute_result"
    }
   ],
   "source": [
    "all_data.isnull().sum()"
   ]
  },
  {
   "cell_type": "code",
   "execution_count": 57,
   "metadata": {},
   "outputs": [
    {
     "data": {
      "text/plain": [
       "2.0    606\n",
       "3.0    239\n",
       "4.0    219\n",
       "5.0     91\n",
       "6.0     26\n",
       "1.0     18\n",
       "7.0     13\n",
       "9.0     11\n",
       "8.0      6\n",
       "Name: Family_Size, dtype: int64"
      ]
     },
     "execution_count": 57,
     "metadata": {},
     "output_type": "execute_result"
    }
   ],
   "source": [
    "all_data[all_data['Spending_Score']=='High'].Family_Size.value_counts()"
   ]
  },
  {
   "cell_type": "code",
   "execution_count": 58,
   "metadata": {},
   "outputs": [
    {
     "data": {
      "text/plain": [
       "1.0    1676\n",
       "2.0    1025\n",
       "3.0     846\n",
       "4.0     764\n",
       "5.0     375\n",
       "6.0     146\n",
       "7.0      71\n",
       "8.0      40\n",
       "9.0      28\n",
       "Name: Family_Size, dtype: int64"
      ]
     },
     "execution_count": 58,
     "metadata": {},
     "output_type": "execute_result"
    }
   ],
   "source": [
    "all_data[all_data['Spending_Score']=='Low'].Family_Size.value_counts()"
   ]
  },
  {
   "cell_type": "code",
   "execution_count": 59,
   "metadata": {},
   "outputs": [
    {
     "data": {
      "text/plain": [
       "2.0    847\n",
       "3.0    468\n",
       "4.0    440\n",
       "5.0    172\n",
       "6.0     48\n",
       "7.0     16\n",
       "9.0      7\n",
       "1.0      7\n",
       "8.0      6\n",
       "Name: Family_Size, dtype: int64"
      ]
     },
     "execution_count": 59,
     "metadata": {},
     "output_type": "execute_result"
    }
   ],
   "source": [
    "all_data[all_data['Spending_Score']=='Average'].Family_Size.value_counts()"
   ]
  },
  {
   "cell_type": "code",
   "execution_count": 61,
   "metadata": {},
   "outputs": [],
   "source": [
    "# Family size =1 means spending score will be low\n",
    "\n",
    "all_data.loc[ (pd.isnull(all_data['Family_Size'])) & (all_data['Spending_Score'] == 'Low'), 'Family_Size'] = 1\n"
   ]
  },
  {
   "cell_type": "code",
   "execution_count": 63,
   "metadata": {},
   "outputs": [],
   "source": [
    "# Replacing leftover missing values of Family size =2\n",
    "\n",
    "all_data.loc[ (pd.isnull(all_data['Family_Size'])) & (all_data['Ever_Married'] == 'Yes'), 'Family_Size'] = 2"
   ]
  },
  {
   "cell_type": "code",
   "execution_count": 64,
   "metadata": {},
   "outputs": [
    {
     "data": {
      "text/plain": [
       "ID                   0\n",
       "Gender               0\n",
       "Ever_Married         0\n",
       "Age                  0\n",
       "Graduated            0\n",
       "Profession           0\n",
       "Work_Experience      0\n",
       "Spending_Score       0\n",
       "Family_Size          0\n",
       "Var_1               80\n",
       "Segmentation       295\n",
       "train_test           0\n",
       "dtype: int64"
      ]
     },
     "execution_count": 64,
     "metadata": {},
     "output_type": "execute_result"
    }
   ],
   "source": [
    "all_data.isnull().sum()"
   ]
  },
  {
   "cell_type": "code",
   "execution_count": 65,
   "metadata": {},
   "outputs": [],
   "source": [
    "# Filling remaining Var_1 missing values using ffill method\n",
    "\n",
    "all_data.Var_1.fillna(method='ffill',inplace=True)"
   ]
  },
  {
   "cell_type": "code",
   "execution_count": 66,
   "metadata": {},
   "outputs": [
    {
     "data": {
      "text/plain": [
       "ID                   0\n",
       "Gender               0\n",
       "Ever_Married         0\n",
       "Age                  0\n",
       "Graduated            0\n",
       "Profession           0\n",
       "Work_Experience      0\n",
       "Spending_Score       0\n",
       "Family_Size          0\n",
       "Var_1                0\n",
       "Segmentation       295\n",
       "train_test           0\n",
       "dtype: int64"
      ]
     },
     "execution_count": 66,
     "metadata": {},
     "output_type": "execute_result"
    }
   ],
   "source": [
    "# No null values remaining now\n",
    "\n",
    "all_data.isnull().sum()"
   ]
  },
  {
   "cell_type": "code",
   "execution_count": 67,
   "metadata": {},
   "outputs": [
    {
     "data": {
      "text/plain": [
       "(8363, 12)"
      ]
     },
     "execution_count": 67,
     "metadata": {},
     "output_type": "execute_result"
    }
   ],
   "source": [
    "all_data.shape"
   ]
  },
  {
   "cell_type": "code",
   "execution_count": 69,
   "metadata": {},
   "outputs": [],
   "source": [
    "train_data = all_data.loc[all_data['train_test']==1]"
   ]
  },
  {
   "cell_type": "code",
   "execution_count": 70,
   "metadata": {},
   "outputs": [
    {
     "data": {
      "text/plain": [
       "(8068, 12)"
      ]
     },
     "execution_count": 70,
     "metadata": {},
     "output_type": "execute_result"
    }
   ],
   "source": [
    "train_data.shape"
   ]
  },
  {
   "cell_type": "code",
   "execution_count": 71,
   "metadata": {},
   "outputs": [],
   "source": [
    "test_data = all_data.loc[all_data['train_test']==0]\n"
   ]
  },
  {
   "cell_type": "code",
   "execution_count": 72,
   "metadata": {},
   "outputs": [
    {
     "data": {
      "text/plain": [
       "(295, 12)"
      ]
     },
     "execution_count": 72,
     "metadata": {},
     "output_type": "execute_result"
    }
   ],
   "source": [
    "test_data.shape"
   ]
  },
  {
   "cell_type": "code",
   "execution_count": 74,
   "metadata": {},
   "outputs": [],
   "source": [
    "test_data = test_data.drop(['Segmentation'],axis=1)"
   ]
  },
  {
   "cell_type": "code",
   "execution_count": 75,
   "metadata": {},
   "outputs": [
    {
     "data": {
      "text/plain": [
       "(295, 11)"
      ]
     },
     "execution_count": 75,
     "metadata": {},
     "output_type": "execute_result"
    }
   ],
   "source": [
    "test_data.shape"
   ]
  },
  {
   "cell_type": "code",
   "execution_count": 77,
   "metadata": {},
   "outputs": [],
   "source": [
    "train_data.to_csv('train_cleaned.csv',index=False)\n",
    "test_data.to_csv('test_cleaned.csv',index=False)"
   ]
  },
  {
   "cell_type": "code",
   "execution_count": null,
   "metadata": {},
   "outputs": [],
   "source": []
  }
 ],
 "metadata": {
  "kernelspec": {
   "display_name": "Python 3",
   "language": "python",
   "name": "python3"
  },
  "language_info": {
   "codemirror_mode": {
    "name": "ipython",
    "version": 3
   },
   "file_extension": ".py",
   "mimetype": "text/x-python",
   "name": "python",
   "nbconvert_exporter": "python",
   "pygments_lexer": "ipython3",
   "version": "3.8.5"
  }
 },
 "nbformat": 4,
 "nbformat_minor": 4
}
